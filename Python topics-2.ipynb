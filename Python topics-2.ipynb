{
 "cells": [
  {
   "cell_type": "markdown",
   "id": "4934beb8-0748-4ef3-887a-d76da7b65952",
   "metadata": {},
   "source": [
    "## 'is' vs '=='"
   ]
  },
  {
   "cell_type": "code",
   "execution_count": 1,
   "id": "1499b05d-789d-47aa-aab3-529c42bf8518",
   "metadata": {},
   "outputs": [
    {
     "name": "stdout",
     "output_type": "stream",
     "text": [
      "True\n"
     ]
    }
   ],
   "source": [
    "list1 = [1, 2, 3]\n",
    "list2 = list1  # Both list1 and list2 point to the same object\n",
    "\n",
    "print(list1 is list2)  # Output: True"
   ]
  },
  {
   "cell_type": "code",
   "execution_count": 3,
   "id": "3fa97826-9205-43b1-b112-f79e1167aa9b",
   "metadata": {},
   "outputs": [
    {
     "name": "stdout",
     "output_type": "stream",
     "text": [
      "True\n"
     ]
    }
   ],
   "source": [
    "list1 = [1, 2, 3]\n",
    "list2 = [1, 2, 3]\n",
    "\n",
    "print(list1 == list2)  # Output: True"
   ]
  },
  {
   "cell_type": "markdown",
   "id": "6ee43183-fc0c-4d81-a5fe-2427a397d2df",
   "metadata": {},
   "source": [
    "## Lambda functions"
   ]
  },
  {
   "cell_type": "code",
   "execution_count": 4,
   "id": "316044b6-6e70-45ad-9698-e0982ddf9e87",
   "metadata": {},
   "outputs": [
    {
     "name": "stdout",
     "output_type": "stream",
     "text": [
      "25\n"
     ]
    }
   ],
   "source": [
    "# lambda arguments: expression\n",
    "\n",
    "square = lambda x: x ** 2\n",
    "\n",
    "print(square(5))  # Output: 25"
   ]
  },
  {
   "cell_type": "code",
   "execution_count": 5,
   "id": "5ff4aaef-8ca8-49c1-a3b7-989ba194dbbb",
   "metadata": {},
   "outputs": [
    {
     "name": "stdout",
     "output_type": "stream",
     "text": [
      "[1, 4, 7, 2, 8, 5]\n"
     ]
    }
   ],
   "source": [
    "numbers = [1, 4, 2, 8, 5, 7]\n",
    "sorted_numbers = sorted(numbers, key=lambda x: x % 3)\n",
    "\n",
    "print(sorted_numbers)  # Output: [2, 5, 7, 1, 4, 8]"
   ]
  },
  {
   "cell_type": "markdown",
   "id": "7bbb9dc9-315c-42c6-b4a8-4cdb41a59f40",
   "metadata": {},
   "source": [
    "## Geneators"
   ]
  },
  {
   "cell_type": "code",
   "execution_count": 6,
   "id": "86865896-8859-4b32-a00a-bfb32226bf91",
   "metadata": {
    "scrolled": true
   },
   "outputs": [
    {
     "name": "stdout",
     "output_type": "stream",
     "text": [
      "5\n",
      "4\n",
      "3\n",
      "2\n",
      "1\n"
     ]
    }
   ],
   "source": [
    "def countdown(n):\n",
    "    while n > 0:\n",
    "        yield n\n",
    "        n -= 1\n",
    "\n",
    "# Creating a generator object\n",
    "countdown_gen = countdown(5)\n",
    "\n",
    "for num in countdown_gen:\n",
    "    print(num)"
   ]
  },
  {
   "cell_type": "markdown",
   "id": "0588db35-42ae-41e5-aef1-79610e4bb988",
   "metadata": {},
   "source": [
    "## Iterators"
   ]
  },
  {
   "cell_type": "code",
   "execution_count": null,
   "id": "82a259d1-cc7c-4414-ade1-74c2a08ddf09",
   "metadata": {},
   "outputs": [],
   "source": []
  },
  {
   "cell_type": "markdown",
   "id": "cb3a9fa9-288d-4f85-88f5-b9c649f39dd0",
   "metadata": {
    "jp-MarkdownHeadingCollapsed": true
   },
   "source": [
    "## Decorators"
   ]
  },
  {
   "cell_type": "code",
   "execution_count": 7,
   "id": "3a6cbabe-4a74-42f8-bc14-b7cad10823c0",
   "metadata": {},
   "outputs": [
    {
     "name": "stdout",
     "output_type": "stream",
     "text": [
      "Something is happening before the function is called.\n",
      "Hello!\n",
      "Something is happening after the function is called.\n"
     ]
    }
   ],
   "source": [
    "def my_decorator(func):\n",
    "    def wrapper():\n",
    "        print(\"Something is happening before the function is called.\")\n",
    "        func()\n",
    "        print(\"Something is happening after the function is called.\")\n",
    "    return wrapper\n",
    "\n",
    "@my_decorator\n",
    "def say_hello():\n",
    "    print(\"Hello!\")\n",
    "\n",
    "say_hello()"
   ]
  },
  {
   "cell_type": "code",
   "execution_count": 8,
   "id": "16d53d73-669b-4842-b997-ae06f0c1fa8b",
   "metadata": {},
   "outputs": [
    {
     "name": "stdout",
     "output_type": "stream",
     "text": [
      "Hello, Alice!\n",
      "Hello, Alice!\n",
      "Hello, Alice!\n"
     ]
    }
   ],
   "source": [
    "def repeat(n):\n",
    "    def decorator(func):\n",
    "        def wrapper(*args, **kwargs):\n",
    "            for _ in range(n):\n",
    "                result = func(*args, **kwargs)\n",
    "            return result\n",
    "        return wrapper\n",
    "    return decorator\n",
    "\n",
    "@repeat(n=3)\n",
    "def greet(name):\n",
    "    print(f\"Hello, {name}!\")\n",
    "\n",
    "greet(\"Alice\")"
   ]
  },
  {
   "cell_type": "markdown",
   "id": "ef67e894-ca48-435f-b6ee-d58d0742c9da",
   "metadata": {},
   "source": [
    "## all() & any()"
   ]
  },
  {
   "cell_type": "code",
   "execution_count": 9,
   "id": "db6d4faf-58d9-4b95-b49a-d386c2fadfe5",
   "metadata": {},
   "outputs": [
    {
     "name": "stdout",
     "output_type": "stream",
     "text": [
      "True\n",
      "False\n"
     ]
    }
   ],
   "source": [
    "numbers = [2, 4, 6, 8, 10]\n",
    "result = all(num % 2 == 0 for num in numbers)\n",
    "print(result)  # Output: True\n",
    "\n",
    "numbers = [2, 4, 6, 7, 10]\n",
    "result = all(num % 2 == 0 for num in numbers)\n",
    "print(result)  # Output: False"
   ]
  },
  {
   "cell_type": "code",
   "execution_count": 10,
   "id": "a0533187-5415-430c-b193-5ce579cb19f0",
   "metadata": {},
   "outputs": [
    {
     "name": "stdout",
     "output_type": "stream",
     "text": [
      "False\n",
      "True\n"
     ]
    }
   ],
   "source": [
    "numbers = [1, 3, 5, 7, 9]\n",
    "result = any(num % 2 == 0 for num in numbers)\n",
    "print(result)  # Output: False\n",
    "\n",
    "numbers = [1, 3, 5, 6, 9]\n",
    "result = any(num % 2 == 0 for num in numbers)\n",
    "print(result)  # Output: True"
   ]
  },
  {
   "cell_type": "markdown",
   "id": "fc9e07af-e6b8-4dac-b535-5d152f0a76a2",
   "metadata": {},
   "source": [
    "## filter() & map()"
   ]
  },
  {
   "cell_type": "code",
   "execution_count": 11,
   "id": "890c122c-0125-4021-a83d-c647963a1929",
   "metadata": {},
   "outputs": [
    {
     "name": "stdout",
     "output_type": "stream",
     "text": [
      "[2, 4, 6, 8, 10]\n"
     ]
    }
   ],
   "source": [
    "# filter(function, iterable)\n",
    "\n",
    "numbers = [1, 2, 3, 4, 5, 6, 7, 8, 9, 10]\n",
    "even_numbers = filter(lambda x: x % 2 == 0, numbers)\n",
    "print(list(even_numbers))  # Output: [2, 4, 6, 8, 10]"
   ]
  },
  {
   "cell_type": "code",
   "execution_count": 12,
   "id": "e3187fe2-e339-4b03-9302-1f542de38428",
   "metadata": {},
   "outputs": [
    {
     "name": "stdout",
     "output_type": "stream",
     "text": [
      "[1, 4, 9, 16, 25]\n"
     ]
    }
   ],
   "source": [
    "# map(function, iterable)\n",
    "\n",
    "numbers = [1, 2, 3, 4, 5]\n",
    "squared_numbers = map(lambda x: x ** 2, numbers)\n",
    "print(list(squared_numbers))  # Output: [1, 4, 9, 16, 25]"
   ]
  },
  {
   "cell_type": "markdown",
   "id": "910b11f9-4238-4f26-b2a3-e89f3011d149",
   "metadata": {},
   "source": [
    "## callable()"
   ]
  },
  {
   "cell_type": "code",
   "execution_count": 13,
   "id": "061a3c17-5246-4a50-954a-0cef0ac8aae7",
   "metadata": {},
   "outputs": [
    {
     "name": "stdout",
     "output_type": "stream",
     "text": [
      "True\n"
     ]
    }
   ],
   "source": [
    "print(callable(print))  # Output: True"
   ]
  },
  {
   "cell_type": "code",
   "execution_count": 14,
   "id": "0355a1fd-6683-4802-ae7b-fcb99eca6d2c",
   "metadata": {},
   "outputs": [
    {
     "name": "stdout",
     "output_type": "stream",
     "text": [
      "True\n"
     ]
    }
   ],
   "source": [
    "class MyCallable:\n",
    "    def __call__(self):\n",
    "        print(\"This is a callable object.\")\n",
    "\n",
    "obj = MyCallable()\n",
    "print(callable(obj))  # Output: True"
   ]
  },
  {
   "cell_type": "code",
   "execution_count": 15,
   "id": "880c2a05-b03d-4942-ba73-9468a44b8876",
   "metadata": {},
   "outputs": [
    {
     "name": "stdout",
     "output_type": "stream",
     "text": [
      "False\n"
     ]
    }
   ],
   "source": [
    "class NotCallable:\n",
    "    pass\n",
    "\n",
    "obj = NotCallable()\n",
    "print(callable(obj))  # Output: False\n"
   ]
  },
  {
   "cell_type": "markdown",
   "id": "870e4b70-d99b-45b8-8589-0392ec5b6f7b",
   "metadata": {},
   "source": [
    "## Zip() "
   ]
  },
  {
   "cell_type": "code",
   "execution_count": 16,
   "id": "931d7589-96bc-4e3b-97bd-f7137d6b89a8",
   "metadata": {},
   "outputs": [
    {
     "name": "stdout",
     "output_type": "stream",
     "text": [
      "Alice: 85\n",
      "Bob: 92\n",
      "Charlie: 78\n"
     ]
    }
   ],
   "source": [
    "# zip(iterable1, iterable2, ...)\n",
    "\n",
    "names = [\"Alice\", \"Bob\", \"Charlie\"]\n",
    "scores = [85, 92, 78]\n",
    "\n",
    "zipped_data = zip(names, scores)\n",
    "\n",
    "for name, score in zipped_data:\n",
    "    print(f\"{name}: {score}\")"
   ]
  },
  {
   "cell_type": "code",
   "execution_count": 17,
   "id": "0b1babac-c8f3-4d9f-929e-852e0f7ce893",
   "metadata": {},
   "outputs": [
    {
     "name": "stdout",
     "output_type": "stream",
     "text": [
      "(1, 'a')\n",
      "(2, 'b')\n"
     ]
    }
   ],
   "source": [
    "list1 = [1, 2, 3]\n",
    "list2 = ['a', 'b']\n",
    "\n",
    "zipped_data = zip(list1, list2)\n",
    "\n",
    "for item in zipped_data:\n",
    "    print(item)\n"
   ]
  },
  {
   "cell_type": "code",
   "execution_count": 18,
   "id": "eb04eb91-ee0e-4227-9e86-63cf0dec7a5c",
   "metadata": {},
   "outputs": [
    {
     "name": "stdout",
     "output_type": "stream",
     "text": [
      "('Alice', 'Bob', 'Charlie')\n",
      "(85, 92, 78)\n"
     ]
    }
   ],
   "source": [
    "zipped_data = zip(names, scores)\n",
    "unzipped_names, unzipped_scores = zip(*zipped_data)\n",
    "\n",
    "print(unzipped_names)  # Output: ('Alice', 'Bob', 'Charlie')\n",
    "print(unzipped_scores) # Output: (85, 92, 78)"
   ]
  },
  {
   "cell_type": "markdown",
   "id": "ea066d79-e75e-436e-8f64-d39b2d7a7077",
   "metadata": {},
   "source": [
    "## Context manager with magic methods"
   ]
  },
  {
   "cell_type": "code",
   "execution_count": 20,
   "id": "18679c30-7904-4610-a7a8-d648a1334c32",
   "metadata": {},
   "outputs": [],
   "source": [
    "class FileManager:\n",
    "    def __init__(self, filename, mode):\n",
    "        self.filename = filename\n",
    "        self.mode = mode\n",
    "\n",
    "    def __enter__(self):\n",
    "        self.file = open(self.filename, self.mode)\n",
    "        return self.file\n",
    "\n",
    "    def __exit__(self, exc_type, exc_value, traceback):\n",
    "        self.file.close()\n",
    "\n",
    "# Using the custom context manager\n",
    "with FileManager('example.txt', 'w') as file:\n",
    "    file.write(\"Hello, context managers!\")\n",
    "\n",
    "# The file is automatically closed when the `with` block is exited\n"
   ]
  },
  {
   "cell_type": "markdown",
   "id": "4baf4242-33bf-4b48-8c8d-e235d4f227e3",
   "metadata": {},
   "source": [
    "## Context manager with contextlib"
   ]
  },
  {
   "cell_type": "code",
   "execution_count": 22,
   "id": "4cd95ef0-cd26-430f-93c4-4ebba407501b",
   "metadata": {},
   "outputs": [],
   "source": [
    "from contextlib import contextmanager\n",
    "\n",
    "@contextmanager\n",
    "def file_manager(filename, mode):\n",
    "    file = open(filename, mode)\n",
    "    try:\n",
    "        yield file\n",
    "    finally:\n",
    "        file.close()\n",
    "\n",
    "# Using the custom context manager\n",
    "with file_manager('example.txt', 'w') as file:\n",
    "    file.write(\"Hello, contextlib module!\")\n",
    "\n",
    "# The file is automatically closed when the `with` block is exited\n"
   ]
  },
  {
   "cell_type": "code",
   "execution_count": null,
   "id": "6cbfd265-e5a9-4e7e-9249-38f09807ce6a",
   "metadata": {},
   "outputs": [],
   "source": []
  }
 ],
 "metadata": {
  "kernelspec": {
   "display_name": "Python 3 (ipykernel)",
   "language": "python",
   "name": "python3"
  },
  "language_info": {
   "codemirror_mode": {
    "name": "ipython",
    "version": 3
   },
   "file_extension": ".py",
   "mimetype": "text/x-python",
   "name": "python",
   "nbconvert_exporter": "python",
   "pygments_lexer": "ipython3",
   "version": "3.10.0"
  }
 },
 "nbformat": 4,
 "nbformat_minor": 5
}
